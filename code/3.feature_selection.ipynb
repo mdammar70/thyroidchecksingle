{
 "cells": [
  {
   "cell_type": "code",
   "execution_count": 1,
   "id": "1101cfdb-39a6-44a4-b8ca-662f1b86bb75",
   "metadata": {},
   "outputs": [],
   "source": [
    "import pandas as pd\n",
    "from sklearn.feature_selection import SelectKBest, chi2\n",
    "import logging\n",
    "\n",
    "logging.basicConfig(filename=\"3.feature_selection.log\", level=logging.DEBUG, format='%(asctime)s %(message)s',datefmt=\"%Y-%m-%d %H:%M:%S\")\n",
    "\n",
    "logging.info(\"loading the train dataset.........\")\n",
    "try:\n",
    "    x_train = pd.read_csv(\"x_train.csv\")\n",
    "    y_train = pd.read_csv(\"y_train.csv\")\n",
    "    logging.info(\"successfully load the training data .\")\n",
    "except Exception as ex:\n",
    "    logging.info(f\"The error when  load the trai data : {ex}\")\n",
    "\n",
    "logging.info(\"loading the test dataset.........\")\n",
    "try:\n",
    "    x_test = pd.read_csv(\"x_test.csv\")\n",
    "    y_test = pd.read_csv(\"y_test.csv\")\n",
    "    logging.info(\"successfully load the test data .\")\n",
    "except Exception as ex:\n",
    "    logging.info(f\"The error when  load the test data : {ex}\")\n",
    "\n",
    "#  selectKbest() :used to reduce the number of features.\n",
    "\n",
    "def feature_selection(x,y):\n",
    "   \n",
    "    best = SelectKBest(chi2, k=4)\n",
    "    best.fit_transform(x,y)\n",
    "    col= x.columns\n",
    "    f = best.get_support()\n",
    "    df1 = col[f]\n",
    "    logging.info(f\"best features are :{df1}\")\n",
    "    return df1\n",
    "\n",
    "logging.info(\"4 best features are............\")\n",
    "features = feature_selection(x_train, y_train)\n",
    "logging.info(features)"
   ]
  }
 ],
 "metadata": {
  "kernelspec": {
   "display_name": "Python 3 (ipykernel)",
   "language": "python",
   "name": "python3"
  },
  "language_info": {
   "codemirror_mode": {
    "name": "ipython",
    "version": 3
   },
   "file_extension": ".py",
   "mimetype": "text/x-python",
   "name": "python",
   "nbconvert_exporter": "python",
   "pygments_lexer": "ipython3",
   "version": "3.9.12"
  }
 },
 "nbformat": 4,
 "nbformat_minor": 5
}
