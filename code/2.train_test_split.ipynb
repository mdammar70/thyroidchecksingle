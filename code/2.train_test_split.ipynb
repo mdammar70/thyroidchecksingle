{
 "cells": [
  {
   "cell_type": "code",
   "execution_count": 1,
   "id": "053a1f43-0936-484b-b575-786c5fa74f88",
   "metadata": {},
   "outputs": [],
   "source": [
    "import logging\n",
    "import pandas as pd\n",
    "from sklearn.model_selection import train_test_split\n",
    "logging.basicConfig(filename=\"2.train_test_split.log\", level=logging.INFO, format='%(asctime)s %(message)s',\n",
    "                    datefmt=\"%Y-%m-%d %H:%M:%S\")\n",
    "try:\n",
    "    logging.info(\"Start the model selection \")\n",
    "    try:\n",
    "        df =  pd.read_csv(\"data_preprocessed.csv\")\n",
    "        logging.info(\"Sucessfully load the dataset \")\n",
    "    except Exception as ex:\n",
    "        logging.info(f\"error raise when load the dataset: {ex}\")\n",
    "    try:\n",
    "        X=df.iloc[:,:27]\n",
    "        Y=df.iloc[:,27:]\n",
    "        logging.info(\"Sucessfully Split the dataset in X and Y format \")\n",
    "    except Exception as ex:\n",
    "        logging.info(f\"error raise when Split the dataset in X and Y format: {ex}\")\n",
    "        \n",
    "    try:\n",
    "        x_train, x_test, y_train, y_test = train_test_split(X,Y,stratify=Y, test_size=0.2)\n",
    "        logging.info(\"Sucessfully Split the dataset in train,test and validation format \")\n",
    "    except Exception as ex:\n",
    "        logging.info(\"Sucessfully Split the dataset in train,test and validation format \")\n",
    "    try:\n",
    "        x_train.to_csv(\"x_train.csv\", index=False)\n",
    "        y_train.to_csv(\"y_train.csv\", index=False)\n",
    "        logging.info(\"Successfully saved the training data.\")\n",
    "        x_test.to_csv(\"x_test.csv\", index=False)\n",
    "        y_test.to_csv(\"y_test.csv\", index=False)\n",
    "        logging.info(\"Successfully saved the testing data.\")\n",
    "    except Exception as ex:\n",
    "        logging.info(f\"The error raise When save the train and test data {ex} \")\n",
    "    logging.info(\"Successfully Completed----------------------------------------------------------\")\n",
    "except Exception as e:\n",
    "    logging.info(f\"The Model selection NOT Completed due to : {e}\")\n"
   ]
  }
 ],
 "metadata": {
  "kernelspec": {
   "display_name": "Python 3 (ipykernel)",
   "language": "python",
   "name": "python3"
  },
  "language_info": {
   "codemirror_mode": {
    "name": "ipython",
    "version": 3
   },
   "file_extension": ".py",
   "mimetype": "text/x-python",
   "name": "python",
   "nbconvert_exporter": "python",
   "pygments_lexer": "ipython3",
   "version": "3.9.12"
  }
 },
 "nbformat": 4,
 "nbformat_minor": 5
}
